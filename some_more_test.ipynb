{
 "cells": [
  {
   "cell_type": "code",
   "execution_count": 18,
   "metadata": {},
   "outputs": [
    {
     "name": "stdout",
     "output_type": "stream",
     "text": [
      "tensor([[2., 3., 4.]])\n",
      "tensor([[0., 1., 2.],\n",
      "        [3., 4., 5.],\n",
      "        [6., 7., 8.]])\n"
     ]
    }
   ],
   "source": [
    "import torch\n",
    "\n",
    "one_by_three = torch.arange(2, 5, dtype = torch.float32).reshape(1, 3)\n",
    "three_by_three = torch.arange(9, dtype = torch.float32).reshape(3, 3)\n",
    "\n",
    "print(one_by_three)\n",
    "print(three_by_three)"
   ]
  },
  {
   "cell_type": "code",
   "execution_count": 19,
   "metadata": {},
   "outputs": [
    {
     "data": {
      "text/plain": [
       "torch.Size([1, 3])"
      ]
     },
     "execution_count": 19,
     "metadata": {},
     "output_type": "execute_result"
    }
   ],
   "source": [
    "one_by_three.size()"
   ]
  },
  {
   "cell_type": "code",
   "execution_count": 20,
   "metadata": {},
   "outputs": [
    {
     "data": {
      "text/plain": [
       "tensor([[ 0.,  3.,  8.],\n",
       "        [ 6., 12., 20.],\n",
       "        [12., 21., 32.]])"
      ]
     },
     "execution_count": 20,
     "metadata": {},
     "output_type": "execute_result"
    }
   ],
   "source": [
    "one_by_three * three_by_three"
   ]
  },
  {
   "cell_type": "code",
   "execution_count": null,
   "metadata": {},
   "outputs": [],
   "source": [
    "tup1 = (2,)"
   ]
  },
  {
   "cell_type": "code",
   "execution_count": 21,
   "metadata": {},
   "outputs": [
    {
     "ename": "TypeError",
     "evalue": "unsupported operand type(s) for -: 'numpy.ndarray' and 'Tensor'",
     "output_type": "error",
     "traceback": [
      "\u001b[0;31m---------------------------------------------------------------------------\u001b[0m",
      "\u001b[0;31mTypeError\u001b[0m                                 Traceback (most recent call last)",
      "Cell \u001b[0;32mIn[21], line 6\u001b[0m\n\u001b[1;32m      3\u001b[0m numpy_arr \u001b[38;5;241m=\u001b[39m np\u001b[38;5;241m.\u001b[39marray([\u001b[38;5;241m1.\u001b[39m, \u001b[38;5;241m2.\u001b[39m, \u001b[38;5;241m3.\u001b[39m])\n\u001b[1;32m      4\u001b[0m torch_tensor \u001b[38;5;241m=\u001b[39m torch\u001b[38;5;241m.\u001b[39mtensor([\u001b[38;5;241m1.\u001b[39m, \u001b[38;5;241m1.\u001b[39m, \u001b[38;5;241m1.\u001b[39m])\n\u001b[0;32m----> 6\u001b[0m \u001b[43mnumpy_arr\u001b[49m\u001b[43m \u001b[49m\u001b[38;5;241;43m-\u001b[39;49m\u001b[43m \u001b[49m\u001b[43mtorch_tensor\u001b[49m\n",
      "\u001b[0;31mTypeError\u001b[0m: unsupported operand type(s) for -: 'numpy.ndarray' and 'Tensor'"
     ]
    }
   ],
   "source": [
    "import numpy as np\n",
    "\n",
    "numpy_arr = np.array([1., 2., 3.])\n",
    "torch_tensor = torch.tensor([1., 1., 1.])\n",
    "\n",
    "numpy_arr - torch_tensor"
   ]
  },
  {
   "cell_type": "code",
   "execution_count": 22,
   "metadata": {},
   "outputs": [
    {
     "data": {
      "text/plain": [
       "tensor([[ 4.,  9., 16.]])"
      ]
     },
     "execution_count": 22,
     "metadata": {},
     "output_type": "execute_result"
    }
   ],
   "source": [
    "torch.pow(one_by_three, 2)"
   ]
  },
  {
   "cell_type": "code",
   "execution_count": 26,
   "metadata": {},
   "outputs": [
    {
     "data": {
      "text/plain": [
       "tensor(36.)"
      ]
     },
     "execution_count": 26,
     "metadata": {},
     "output_type": "execute_result"
    }
   ],
   "source": [
    "torch.sum(three_by_three, [0, 1])"
   ]
  },
  {
   "cell_type": "code",
   "execution_count": 32,
   "metadata": {},
   "outputs": [],
   "source": [
    "import torch.nn as nn\n",
    "from typing import *\n",
    "\n",
    "class DiagGaussian(nn.Module):\n",
    "    # Multivariate Gaussian distribution with diagonal covariance matrix\n",
    "\n",
    "    def __init__(self,\n",
    "                 shape:Union[int, list],\n",
    "                 trainable:bool=True) -> None:\n",
    "        \n",
    "        super().__init__()\n",
    "        if isinstance(shape, int):\n",
    "            shape = (shape,)\n",
    "        if isinstance(shape, list):\n",
    "            shape = tuple(shape)\n",
    "        self.shape = shape\n",
    "        self.n_dim = len(shape)\n",
    "        self.d = np.prod(shape)\n",
    "        if trainable:\n",
    "            self.loc = nn.Parameter(torch.zeros(1, *self.shape))\n",
    "            self.log_scale = nn.Parameter(torch.zeros(1, *self.shape))\n",
    "        else:\n",
    "            self.register_buffer(\"loc\", torch.zeros(1, *self.shape))\n",
    "            self.register_buffer(\"log_scale\", torch.zeros(1, *self.shape))\n",
    "        self.temperature = None  # Temperature parameter for annealed sampling\n",
    "\n",
    "    def forward(self,\n",
    "                num_samples:int=1,\n",
    "                context=None) -> tuple[torch.Tensor, torch.Tensor]:\n",
    "        \n",
    "        eps = torch.randn(\n",
    "            (num_samples,) + self.shape, dtype=self.loc.dtype, device=self.loc.device\n",
    "        )\n",
    "        if self.temperature is None:\n",
    "            log_scale = self.log_scale\n",
    "        else:\n",
    "            log_scale = self.log_scale + np.log(self.temperature)\n",
    "        z = self.loc + torch.exp(log_scale) * eps\n",
    "        summed = torch.sum(log_scale + 0.5 * torch.pow(eps, 2), list(range(1, self.n_dim + 1)))\n",
    "        log_p = -0.5 * self.d * np.log(2 * np.pi) - summed\n",
    "        return eps, log_scale, summed, z, log_p"
   ]
  },
  {
   "cell_type": "code",
   "execution_count": 45,
   "metadata": {},
   "outputs": [
    {
     "data": {
      "text/plain": [
       "Parameter containing:\n",
       "tensor([[0., 0., 0.]], requires_grad=True)"
      ]
     },
     "execution_count": 45,
     "metadata": {},
     "output_type": "execute_result"
    }
   ],
   "source": [
    "dg = DiagGaussian(shape = 3)\n",
    "dg.loc"
   ]
  },
  {
   "cell_type": "code",
   "execution_count": 46,
   "metadata": {},
   "outputs": [
    {
     "data": {
      "text/plain": [
       "tensor([[ 1.8793e+00, -9.8875e-01,  1.5219e+00],\n",
       "        [ 3.1710e-01,  1.7754e+00,  1.1747e+00],\n",
       "        [-1.6328e+00, -7.1647e-04,  1.6360e-01],\n",
       "        [ 3.9588e-02, -1.4581e-02,  7.9325e-01],\n",
       "        [-1.9799e+00,  3.4490e-03, -5.9534e-01],\n",
       "        [ 1.6258e-01, -1.2493e+00,  9.2686e-01],\n",
       "        [-2.5759e-01,  1.1668e+00, -1.5670e+00]])"
      ]
     },
     "execution_count": 46,
     "metadata": {},
     "output_type": "execute_result"
    }
   ],
   "source": [
    "eps, log_scale, summed, z, log_p = dg(num_samples = 7)\n",
    "eps"
   ]
  },
  {
   "cell_type": "code",
   "execution_count": 47,
   "metadata": {},
   "outputs": [
    {
     "data": {
      "text/plain": [
       "tensor([[1.7658e+00, 4.8881e-01, 1.1582e+00],\n",
       "        [5.0276e-02, 1.5760e+00, 6.8994e-01],\n",
       "        [1.3330e+00, 2.5667e-07, 1.3383e-02],\n",
       "        [7.8361e-04, 1.0630e-04, 3.1462e-01],\n",
       "        [1.9600e+00, 5.9480e-06, 1.7721e-01],\n",
       "        [1.3216e-02, 7.8041e-01, 4.2953e-01],\n",
       "        [3.3175e-02, 6.8068e-01, 1.2278e+00]])"
      ]
     },
     "execution_count": 47,
     "metadata": {},
     "output_type": "execute_result"
    }
   ],
   "source": [
    "0.5 * torch.pow(eps, 2)"
   ]
  },
  {
   "cell_type": "code",
   "execution_count": 48,
   "metadata": {},
   "outputs": [
    {
     "data": {
      "text/plain": [
       "tensor([3.4128, 2.3163, 1.3464, 0.3155, 2.1372, 1.2232, 1.9416],\n",
       "       grad_fn=<SumBackward1>)"
      ]
     },
     "execution_count": 48,
     "metadata": {},
     "output_type": "execute_result"
    }
   ],
   "source": [
    "summed"
   ]
  }
 ],
 "metadata": {
  "kernelspec": {
   "display_name": "colab_env",
   "language": "python",
   "name": "python3"
  },
  "language_info": {
   "codemirror_mode": {
    "name": "ipython",
    "version": 3
   },
   "file_extension": ".py",
   "mimetype": "text/x-python",
   "name": "python",
   "nbconvert_exporter": "python",
   "pygments_lexer": "ipython3",
   "version": "3.11.8"
  }
 },
 "nbformat": 4,
 "nbformat_minor": 2
}
